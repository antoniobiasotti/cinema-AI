{
 "cells": [
  {
   "cell_type": "code",
   "execution_count": null,
   "id": "67438fee",
   "metadata": {},
   "outputs": [],
   "source": [
    "import numpy as np"
   ]
  }
 ],
 "metadata": {
  "kernelspec": {
   "display_name": "Recommendation System",
   "language": "python",
   "name": "cinema-ai"
  },
  "language_info": {
   "name": "python",
   "version": "3.11.8"
  }
 },
 "nbformat": 4,
 "nbformat_minor": 5
}
