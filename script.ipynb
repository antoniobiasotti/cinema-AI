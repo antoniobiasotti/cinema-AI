{
 "cells": [
  {
   "cell_type": "code",
   "execution_count": null,
   "id": "67438fee",
   "metadata": {},
   "outputs": [],
   "source": [
    "import numpy as np"
   ]
  },
  {
   "cell_type": "code",
   "execution_count": null,
   "id": "eb09278a",
   "metadata": {},
   "outputs": [],
   "source": []
  }
 ],
 "metadata": {
  "kernelspec": {
   "display_name": "Recommendation System",
   "language": "python",
   "name": "cinema-ai"
  },
  "language_info": {
   "name": "python",
   "version": "3.11.8"
  }
 },
 "nbformat": 4,
 "nbformat_minor": 5
}
